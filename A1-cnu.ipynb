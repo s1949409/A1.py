{
 "cells": [
  {
   "cell_type": "markdown",
   "metadata": {},
   "source": [
    "# Assignment A1 [35 marks]\n",
    "\n"
   ]
  },
  {
   "cell_type": "markdown",
   "metadata": {},
   "source": [
    "The assignment consists of 4 exercises. Each exercise may contain coding and/or discussion questions.\n",
    "- Type your **code** in the **code cells** provided below each question.\n",
    "- For **discussion** questions, use the **Markdown cells** provided below each question, indicated by 📝. Double-click these cells to edit them, and run them to display your Markdown-formatted text. Please refer to the Week 1 tutorial notebook for Markdown syntax."
   ]
  },
  {
   "cell_type": "markdown",
   "metadata": {},
   "source": [
    "---\n",
    "## Question 1: Numerical Linear Algebra [8 marks]\n",
    "\n",
    "**1.1** Using the method of your choice, solve the linear system $Ax = b$ with\n",
    "\n",
    "$$ A = \\begin{pmatrix}\n",
    "          1 &  1 & 0 & 1  \\\\ \n",
    "         -1 &  0 & 1 & 1  \\\\ \n",
    "          0 & -1 & 0 & -1  \\\\ \n",
    "          1 & 0 & 1 & 0 \n",
    "        \\end{pmatrix}\n",
    "        \\qquad \\text{and} \\qquad \n",
    "    b = \\begin{pmatrix}\n",
    "           5.2 \\cr 0.1 \\cr 1.9 \\cr 0\n",
    "        \\end{pmatrix},\n",
    "$$\n",
    "\n",
    "and compute the residual norm $r = \\|Ax-b\\|_2$. Display the value of $r$ in a clear and easily readable manner.\n",
    "\n",
    "**[2 marks]**"
   ]
  },
  {
   "cell_type": "code",
   "execution_count": 4,
   "metadata": {},
   "outputs": [
    {
     "name": "stdout",
     "output_type": "stream",
     "text": [
      "[  7.1 -16.2  -7.1  14.3]\n",
      "23.827505114887707\n"
     ]
    }
   ],
   "source": [
    "import numpy as np \n",
    "from numpy import linalg\n",
    "\n",
    "\n",
    "A = np.array([[1, 1, 0, 1],[-1, 0, 1, 1],[0, -1, 0, -1],[1, 0, 1, 0]])\n",
    "b = np.array([5.2, 0.1, 1.9, 0])\n",
    "\n",
    "x= np.linalg.solve(A, b)\n",
    "print(x)\n",
    "\n",
    "r = np.linalg.norm([x])\n",
    "print(r)\n",
    "\n"
   ]
  },
  {
   "cell_type": "markdown",
   "metadata": {},
   "source": [
    "**1.2** Repeat the same calculations for the matrix\n",
    "\n",
    "$$ A = \\begin{pmatrix}\n",
    "          a &  1 & 0 & 1  \\\\ \n",
    "         -1 &  0 & 1 & 1  \\\\ \n",
    "          0 & -1 & 0 & -1  \\\\ \n",
    "          1 & 0 & 1 & 0 \n",
    "        \\end{pmatrix}\n",
    "        \\qquad \\text{with} \\qquad a \\in \\{10^{-8}, 10^{-10}, 10^{-12}\\}. \n",
    "$$\n",
    "\n",
    "Display the value of $r$ for each value of $a$, and avoid repeating (copy+pasting) code.\n",
    "\n",
    "\n",
    "**[3 marks]**"
   ]
  },
  {
   "cell_type": "code",
   "execution_count": 15,
   "metadata": {},
   "outputs": [
    {
     "name": "stdout",
     "output_type": "stream",
     "text": [
      "[ 7.10000004e+08 -1.42000001e+09 -7.10000004e+08  1.42000001e+09]\n",
      "2245217153.692948\n",
      "[ 7.09999941e+10 -1.41999988e+11 -7.09999941e+10  1.41999988e+11]\n",
      "224521695296.27478\n",
      "[ 7.09936886e+12 -1.41987377e+13 -7.09936886e+12  1.41987377e+13]\n",
      "22450175553516.46\n"
     ]
    }
   ],
   "source": [
    "import numpy as np \n",
    "from numpy import linalg\n",
    "\n",
    "\n",
    "\n",
    "for i in range(len(s)):\n",
    "    s = [10**-8, 10**-10, 10**-12]\n",
    "    a = s[i]\n",
    "    \n",
    "    A = np.array([[a, 1, 0, 1],[-1, 0, 1, 1],[0, -1, 0, -1],[1, 0, 1, 0]])\n",
    "    b = np.array([5.2, 0.1, 1.9, 0])\n",
    "\n",
    "    \n",
    "    x= np.linalg.solve(A, b)\n",
    "    print(x)\n",
    "\n",
    "    r = np.linalg.norm([x])\n",
    "    print(r)\n",
    "\n"
   ]
  },
  {
   "cell_type": "markdown",
   "metadata": {},
   "source": [
    "**1.3** Summarise and explain your observations in a discussion of no more than $250$ words.\n",
    "\n",
    "**[3 marks]**"
   ]
  },
  {
   "cell_type": "markdown",
   "metadata": {},
   "source": [
    "📝 ***Discussion for question 1.3***\n",
    "\n",
    "\n"
   ]
  },
  {
   "cell_type": "markdown",
   "metadata": {},
   "source": [
    "In 1.1, we solve Ax=b, for a four-dimensional vector x, so we can calculate the residual norm, the residual norm calculates\n",
    "the distance of the vector from the origin to the point, (7.1 -16.2  -7.1  14.3). So overall we have the\n",
    "distance of the vector, calculated in a similar manner to finding the hypotenuse using the Pythagorean theorem.\n",
    "\n",
    "for 1.2, we find that iteratively inserting very small values into A[0,0] and solving Ax = b for x, results in vectors \n",
    "with extremely large values, and therefore a residual norm of large magnitude/distance. This phenomena where small changes\n",
    "in the entries of a matrix that produce large changes in the solution to Ax = b is called an \"ill-conditioned\" matrix  (1).\n",
    "\n",
    "Small changes in even one choice of a value in A, which is multiple orders of magnitude smaller than the rest of the matrix\n",
    "entries, results in vector solutions with extremely large values which are multiple orders of magnitude larger than \n",
    "what is found in the results of 1.1. If we take this \"a\" value to be $10^{-8}$, we find upon comparing the residual norm of \n",
    "1.1 with the residual norm of 1.2, that it is 8 orders of magnitude larger, similarly with $10^{-10}$, $10^{-12}$ \n",
    "they are ten and twelve orders of magnitude larger than the previous residual norm.\n",
    "\n",
    "(1) - David Poole, Linear Algebra, p561"
   ]
  },
  {
   "cell_type": "markdown",
   "metadata": {},
   "source": []
  },
  {
   "cell_type": "markdown",
   "metadata": {},
   "source": [
    "---\n",
    "## Question 2: Sums [10 marks]\n",
    "\n",
    "Consider the sum\n",
    "\n",
    "$$\n",
    "S_N = \\sum_{n=1}^N \\frac{2n+1}{n^2(n+1)^2}.\n",
    "$$\n",
    "\n",
    "**2.1** Write a function `sum_S()` which takes 2 input arguments, a positive integer `N` and a string `direction`, and computes the sum $S_N$ **iteratively** (i.e. using a loop):\n",
    "- in the direction of increasing $n$ if `direction` is `'up'`,\n",
    "- in the direction of decreasing $n$ if `direction` is `'down'`.\n",
    "\n",
    "For instance, to calculate $S_{10}$ in the direction of decreasing $n$, you would call your function using `sum_S(10, 'down')`.\n",
    "\n",
    "**[3 marks]**"
   ]
  },
  {
   "cell_type": "code",
   "execution_count": 2,
   "metadata": {},
   "outputs": [
    {
     "name": "stdout",
     "output_type": "stream",
     "text": [
      "0.9917355371900827\n",
      "0.9917355371900827\n"
     ]
    }
   ],
   "source": [
    "def sum_S(N, direction):\n",
    "\n",
    "\n",
    "    if direction == 'up':\n",
    "        series = 0\n",
    "        #loop from 1 to N\n",
    "        for k in range(1, N + 1): \n",
    "            series += (2*k + 1)/(k**2*(k+1)**2)\n",
    "        return series \n",
    "    \n",
    "    elif direction == 'down':\n",
    "        series = 0\n",
    "        #loop from N to 1 \n",
    "        for k in range(N, 0, -1):\n",
    "            series += (2*k + 1)/(k**2*(k+1)**2)\n",
    "        return series\n",
    "    else: \n",
    "        print('Choose \\'up\\' or \\'down\\' for direction.')\n",
    "\n",
    "\n",
    "print(sum_S(10, 'down'))\n",
    "print(sum_S(10, 'up'))"
   ]
  },
  {
   "cell_type": "markdown",
   "metadata": {},
   "source": [
    "**2.2** The sum $S_N$ has the closed-form expression $S_N = 1-\\frac{1}{(N+1)^2}$. We assume that we can compute $S_N$ using this expression without significant loss of precision, i.e. that we can use this expression to obtain a \"ground truth\" value for $S_N$.\n",
    "\n",
    "Using your function `sum_S()`, compute $S_N$ iteratively in both directions, for 10 different values of $N$, linearly spaced, between $10^3$ and $10^6$ (inclusive).\n",
    "\n",
    "For each value of $N$, compare the results in each direction with the closed-form expression. Present your results graphically, in a clear and understandable manner.\n",
    "\n",
    "**[4 marks]**"
   ]
  },
  {
   "cell_type": "code",
   "execution_count": 3,
   "metadata": {},
   "outputs": [
    {
     "data": {
      "image/png": "[encoded data removed]",
      "text/plain": [
       "<Figure size 864x360 with 2 Axes>"
      ]
     },
     "metadata": {
      "needs_background": "light"
     },
     "output_type": "display_data"
    }
   ],
   "source": [
    "import numpy as np\n",
    "import matplotlib.pyplot as plt\n",
    "\n",
    "a, b = 10**3, 10**6\n",
    "N_vals = np.linspace(a, b, 10, dtype = int)\n",
    "err_up, err_down = [], []\n",
    "\n",
    "for i in range(len(N_vals)):\n",
    "    S_N = 1 - 1/(N_vals[i] + 1)**2\n",
    "    sum_up = sum_S(N_vals[i], 'up')\n",
    "    sum_down = sum_S(N_vals[i], 'down')\n",
    "    err_up.append(np.abs(S_N - sum_up))\n",
    "    err_down.append(np.abs(S_N - sum_down))\n",
    "    \n",
    "\n",
    "fig, ax = plt.subplots(1, 2, figsize=(12, 5))\n",
    "ax[0].plot(N_vals, err_up, 'r', label='Up')\n",
    "ax[0].plot(N_vals, err_down, 'b', label='Down')\n",
    "ax[1].plot(N_vals, err_down, 'b')\n",
    "\n",
    "ax[0].legend()\n",
    "\n",
    "ax[0].set(title='Error in the Iterative Sum',\n",
    "               xlabel='Value of N',\n",
    "               ylabel='Absolute Error')\n",
    "ax[1].set(title='Error in the Iterative Sum (Down)',\n",
    "               xlabel='Value of N',\n",
    "               ylabel='Absolute Error')\n",
    "\n",
    "plt.show()\n"
   ]
  },
  {
   "cell_type": "markdown",
   "metadata": {},
   "source": [
    "**2.3** Describe and explain your findings in no more that $250$ words. Which direction of summation provides the more accurate result? Why?\n",
    "\n",
    "**[3 marks]**"
   ]
  },
  {
   "cell_type": "markdown",
   "metadata": {},
   "source": [
    "In terms of error of the iterative sum, summation in the downward dicrection will provide a more accurate result,\n",
    "from the error graph in 2.2 comparing up with down, the absolute error gradually increases for increasing linearley spaced \n",
    "values between $10^3$ and $10^6$ (inclusive). \n",
    "For the downward itterative sum, we need to make observations at much smaller orders of magnitude to observe absolue error. "
   ]
  },
  {
   "cell_type": "markdown",
   "metadata": {},
   "source": [
    "📝 ***Discussion for question 2.3***\n",
    "\n",
    "\n"
   ]
  },
  {
   "cell_type": "markdown",
   "metadata": {},
   "source": [
    "---\n",
    "## Question 3: Numerical Integration [10 marks]\n",
    "\n",
    "For integer $k \\neq 0$ consider the integral \n",
    "\n",
    "$$\n",
    "I(k) = \\int_0^{2\\pi}  x^4 \\cos{k x} \\ dx = \\frac{32\\pi^3}{k^2} - \\frac{48\\pi}{k^4} \\ .\n",
    "$$\n",
    "\n",
    "**3.1** Write a function `simpson_I()` which takes 2 input arguments, `k` and `N`, and implements Simpson's rule to compute and return an approximation of $I(k)$, partitioning the interval $[0, 2\\pi]$ into $N$ sub-intervals of equal width.\n",
    "\n",
    "**[2 marks]**"
   ]
  },
  {
   "cell_type": "code",
   "execution_count": null,
   "metadata": {},
   "outputs": [],
   "source": []
  },
  {
   "cell_type": "code",
   "execution_count": null,
   "metadata": {},
   "outputs": [],
   "source": []
  },
  {
   "cell_type": "markdown",
   "metadata": {},
   "source": [
    "**3.2** For $k = 1$, and for $\\varepsilon \\in \\{10^{-n} \\ |\\  n \\in \\mathbb{N}, 3 \\leqslant n \\leqslant 8\\}$, determine the number $N_{\\text{min}}$ of partitions needed to get the value of the integral $I(1)$ correctly to within $\\varepsilon$. \n",
    "\n",
    "**[2 marks]**"
   ]
  },
  {
   "cell_type": "code",
   "execution_count": null,
   "metadata": {},
   "outputs": [],
   "source": []
  },
  {
   "cell_type": "markdown",
   "metadata": {},
   "source": [
    "**3.3** Repeat your calculations from **3.2** for $k \\in \\{2^{n}\\ |\\ n \\in \\mathbb{N}, n \\leqslant 6\\}$. \n",
    "\n",
    "**[2 marks]**"
   ]
  },
  {
   "cell_type": "code",
   "execution_count": null,
   "metadata": {},
   "outputs": [],
   "source": []
  },
  {
   "cell_type": "markdown",
   "metadata": {},
   "source": [
    "**3.3** Present your results graphically by plotting \n",
    "\n",
    "(a) the number of terms $N_{\\text{min}}$ against $\\varepsilon$ for fixed $k$, \n",
    "\n",
    "(b) the number of terms $N_{\\text{min}}$ against $k$ for fixed $\\varepsilon$.\n",
    "\n",
    "You should format the plots so that the data presentation is clear and easy to understand.\n",
    "\n",
    "**[2 marks]**"
   ]
  },
  {
   "cell_type": "code",
   "execution_count": null,
   "metadata": {},
   "outputs": [],
   "source": []
  },
  {
   "cell_type": "markdown",
   "metadata": {},
   "source": [
    "**3.4** Discuss, with reference to your plot from 3.3, your results. Your answer should be no more than $250$ words.\n",
    "\n",
    "**[2 marks]**"
   ]
  },
  {
   "cell_type": "markdown",
   "metadata": {},
   "source": [
    "📝 ***Discussion for question 3.4***\n",
    "\n",
    "\n"
   ]
  },
  {
   "cell_type": "markdown",
   "metadata": {},
   "source": [
    "---\n",
    "## Question 4: Numerical Derivatives [7 marks]\n",
    "\n",
    "Derivatives can be approximated by finite differences in several ways, for instance\n",
    "\n",
    "\\begin{align*}\n",
    "        \\frac{df}{dx} & \\approx \\frac{f(x+h) - f(x)}{h} \\\\\n",
    "        \\frac{df}{dx} & \\approx \\frac{f(x) - f(x-h)}{h}  \\\\\n",
    "        \\frac{df}{dx} & \\approx \\frac{f(x+h) - f(x-h)}{2h} \\ . \n",
    "\\end{align*}\n",
    "\n",
    "Assuming $f$ to be differentiable, in the limit $h \\to 0$, all three expressions are equivalent and exact, but for finite $h$ there are differences. Further discrepancies also arise when using finite precision arithmetic.\n",
    "\n",
    "**4.1**\n",
    "Estimate numerically the derivative of $f(x) = \\cos(x)$ at $x = 1$ using the three expressions given above and different step sizes $h$. Use at least 50 logarithmically spaced values $h \\in [10^{-16}, 10^{-1}]$.\n",
    "\n",
    "**[2 marks]**"
   ]
  },
  {
   "cell_type": "code",
   "execution_count": 3,
   "metadata": {},
   "outputs": [
    {
     "name": "stdout",
     "output_type": "stream",
     "text": [
      "[ 0.         -1.09728079 -1.08448943 -0.93786628 -0.92693327 -0.85069001\n",
      " -0.85694195 -0.8469523  -0.84497607 -0.8409796  -0.84274692 -0.84149975\n",
      " -0.8413445  -0.84154397 -0.84150944 -0.84147504 -0.84148154 -0.8414707\n",
      " -0.84147264 -0.84147204 -0.84147099 -0.84147149 -0.84147114 -0.84147095\n",
      " -0.84147098 -0.841471   -0.84147099 -0.84147099 -0.841471   -0.84147101\n",
      " -0.84147103 -0.84147107 -0.84147115 -0.84147133 -0.84147168 -0.84147238\n",
      " -0.84147382 -0.84147671 -0.84148258 -0.84149445 -0.84151846 -0.84156705\n",
      " -0.84166534 -0.84186412 -0.84226592 -0.84307707 -0.84471069 -0.84798426\n",
      " -0.85447592 -0.86706184]\n",
      "[ 0.         -0.5486404  -0.81336707 -0.66990449 -0.79451423 -0.85069001\n",
      " -0.84077324 -0.83896218 -0.8370791  -0.83902837 -0.84081843 -0.84149975\n",
      " -0.8413445  -0.8414276  -0.84145194 -0.84147504 -0.8414675  -0.84146376\n",
      " -0.84146921 -0.84147034 -0.84147099 -0.84147108 -0.84147093 -0.84147095\n",
      " -0.84147098 -0.84147097 -0.84147099 -0.84147098 -0.84147097 -0.84147096\n",
      " -0.84147094 -0.8414709  -0.84147082 -0.84147064 -0.84147029 -0.84146959\n",
      " -0.84146815 -0.84146525 -0.84145939 -0.84144752 -0.8414235  -0.84137489\n",
      " -0.84127649 -0.84107725 -0.84067362 -0.83985492 -0.83819044 -0.83479044\n",
      " -0.82778116 -0.81307662]\n",
      "[ 0.         -0.82296059 -0.94892825 -0.80388539 -0.86072375 -0.85069001\n",
      " -0.8488576  -0.84295724 -0.84102759 -0.84000398 -0.84178268 -0.84149975\n",
      " -0.8413445  -0.84148578 -0.84148069 -0.84147504 -0.84147452 -0.84146723\n",
      " -0.84147093 -0.84147119 -0.84147099 -0.84147129 -0.84147104 -0.84147095\n",
      " -0.84147098 -0.84147099 -0.84147099 -0.84147099 -0.84147099 -0.84147098\n",
      " -0.84147099 -0.84147098 -0.84147098 -0.84147098 -0.84147098 -0.84147098\n",
      " -0.84147098 -0.84147098 -0.84147098 -0.84147098 -0.84147098 -0.84147097\n",
      " -0.84147091 -0.84147069 -0.84146977 -0.841466   -0.84145056 -0.84138735\n",
      " -0.84112854 -0.84006923]\n"
     ]
    }
   ],
   "source": [
    "#Using dx to represent h,  \n",
    "import numpy as np\n",
    "def F(x):\n",
    "    return np.cos(x)\n",
    "\n",
    "x = 1\n",
    "dx = np.logspace(-16, -1, 50)\n",
    "\n",
    "F_derivative_approx = (F(x + dx) - F(x)) / dx\n",
    "B_derivative_approx = (F(x)- F(x - dx)) / dx\n",
    "C_derivative_approx = (F(x + dx) - F(x - dx)) / (2 * dx)\n",
    "\n",
    "print(F_derivative_approx)\n",
    "print(B_derivative_approx)\n",
    "print(C_derivative_approx)\n",
    "\n"
   ]
  },
  {
   "cell_type": "markdown",
   "metadata": {},
   "source": [
    "**4.2**\n",
    "Display the absolute difference between the numerical results and the\n",
    "exact value of the derivative, against $h$ in a doubly logarithmic plot. \n",
    "You should format the plot so that the data presentation is clear and easy to understand.\n",
    "\n",
    "**[2 marks]**"
   ]
  },
  {
   "cell_type": "code",
   "execution_count": 7,
   "metadata": {},
   "outputs": [
    {
     "data": {
      "image/png": "[encoded data removed]",
      "text/plain": [
       "<Figure size 720x720 with 1 Axes>"
      ]
     },
     "metadata": {
      "needs_background": "light"
     },
     "output_type": "display_data"
    }
   ],
   "source": [
    "import numpy as np\n",
    "import matplotlib.pyplot as plt\n",
    "\n",
    "def F_derivative(x):\n",
    "    return -np.sin(x)\n",
    "\n",
    "# Calculate the absolute error\n",
    "F_derivative_error = np.abs(F_derivative_approx - F_derivative(x))\n",
    "B_derivative_error = np.abs(B_derivative_approx - F_derivative(x))\n",
    "C_derivative_error = np.abs(C_derivative_approx - F_derivative(x))\n",
    "  \n",
    "fig_1, ax_1 = plt.subplots(figsize= (10,10)) \n",
    "ax_1.plot(np.log(dx), np.log(F_derivative_error), \"y-\", label = 'Forward')\n",
    "ax_1.plot(np.log(dx), np.log(B_derivative_error), \"m-\", label = 'Backward')\n",
    "ax_1.plot(np.log(dx), np.log(C_derivative_error), \"b-\", label = 'Centred')\n",
    "ax_1.legend()\n",
    "ax_1.set(xlabel=\"$\\log(\\Delta x)$\", ylabel=\"Log error magnitude\", title=\"Finite differences\")\n",
    "\n",
    "\n",
    "plt.show()"
   ]
  },
  {
   "cell_type": "markdown",
   "metadata": {},
   "source": [
    "**4.3**\n",
    "Describe and interpret your results in no more than 250 words.\n",
    "\n",
    "*Hint: run the code below.*\n",
    "\n",
    "**[3 marks]**"
   ]
  },
  {
   "cell_type": "markdown",
   "metadata": {},
   "source": [
    "Built into the forward, backward and centred techniques of evaluating derivatives\n",
    "is that they are only finitely accurate. To begin with increasingly small\n",
    "values of h, yield more accurate results, however once we go beyond the point\n",
    "of the truncated Taylor series, the round off error begins to dominate and \n",
    "we begin to have increasingly less accurate values when evaluating our derivatives.\n",
    "\n",
    "For the centred difference method, reading off the graph from the right, \n",
    "we see that it is far more effective than the backward or forward difference \n",
    "methods. Firstly this is because the Centred difference method converges \n",
    "fastest to its most accurate estimate. Secondly, because it has the lowest\n",
    "error of all the approximation methods examined. \n",
    "\n",
    "Forward and Backward methods converge to a similar order of accuracy.\n",
    "They also have a similar rate of convergence to their best estimate for \n",
    "evaluating the derivative. The disadvantage to these methods is they converge\n",
    "more slowly and with far less accuracy than can be gained from centred approximation.\n"
   ]
  },
  {
   "cell_type": "markdown",
   "metadata": {},
   "source": [
    "📝 ***Discussion for question 4.3***\n",
    "\n",
    "\n"
   ]
  }
 ],
 "metadata": {
  "kernelspec": {
   "display_name": "Python 3",
   "language": "python",
   "name": "python3"
  },
  "language_info": {
   "codemirror_mode": {
    "name": "ipython",
    "version": 3
   },
   "file_extension": ".py",
   "mimetype": "text/x-python",
   "name": "python",
   "nbconvert_exporter": "python",
   "pygments_lexer": "ipython3",
   "version": "3.7.6"
  }
 },
 "nbformat": 4,
 "nbformat_minor": 4
}
